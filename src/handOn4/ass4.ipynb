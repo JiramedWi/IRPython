{
 "cells": [
  {
   "cell_type": "code",
   "execution_count": 66,
   "metadata": {},
   "outputs": [],
   "source": [
    "import pandas as pd \n",
    "\n",
    "import numpy as np\n",
    "import multiprocessing as mp\n",
    "import functools\n",
    "from string import ascii_lowercase\n",
    "import timeit\n",
    "import itertools\n",
    "import cProfile\n",
    "\n",
    "from sklearn.feature_extraction.text import CountVectorizer\n",
    "from sklearn.feature_extraction.text import TfidfVectorizer\n",
    "from scipy import sparse\n",
    "\n",
    "import nltk\n",
    "from nltk.tokenize import word_tokenize\n",
    "from nltk.corpus import stopwords\n",
    "from nltk.stem import PorterStemmer\n",
    "import itertools\n",
    "\n",
    "import os\n",
    "import sys"
   ]
  },
  {
   "cell_type": "markdown",
   "metadata": {},
   "source": [
    "# Preparation!! Merge context of all files in different directory\n",
    "### First of all, I want to collect all the path of file that end with **\"-plain.txt\"** in the EN directory"
   ]
  },
  {
   "cell_type": "code",
   "execution_count": 67,
   "metadata": {},
   "outputs": [],
   "source": [
    "path = '/mnt/d/Git/Repositories/IRPython/src/handOn4/EN'\n",
    "os.chdir(path)\n",
    "directories_in_EN = os.listdir()\n",
    "target_file_lists = []\n",
    "\n",
    "for files in directories_in_EN:\n",
    "    folder = f'/mnt/d/Git/Repositories/IRPython/src/handOn4/EN/{files}'\n",
    "    os.chdir(folder)\n",
    "    filesList = os.listdir()\n",
    "    for names in filesList:\n",
    "        if names.endswith('-plain.txt'):\n",
    "            target_file = f\"{folder}/{names}\"\n",
    "    target_file_lists.append(target_file)\n",
    "\n"
   ]
  },
  {
   "cell_type": "markdown",
   "metadata": {},
   "source": [
    "### After we get all the path of file i decide to read all of it and write in the output file that i choosen."
   ]
  },
  {
   "cell_type": "code",
   "execution_count": 68,
   "metadata": {},
   "outputs": [],
   "source": [
    "all_contents = '/mnt/d/Git/Repositories/IRPython/src/handOn4/opt.txt'\n",
    "with open(all_contents, \"w\") as outfile:\n",
    "    for filename in target_file_lists:\n",
    "        with open(filename) as infile:\n",
    "            contents = infile.read()\n",
    "            outfile.write(contents)"
   ]
  },
  {
   "cell_type": "code",
   "execution_count": 69,
   "metadata": {},
   "outputs": [
    {
     "name": "stdout",
     "output_type": "stream",
     "text": [
      "Strategies on the future of the chlorine industry \n",
      "\n",
      "C. Hendriks and D. Papameletiou \n",
      "\n",
      "Issue: \n",
      "\n",
      "Production and use of chlorine are of key importance for the chemical industry, with a large number of chlorinated compounds on the market, and nearly 60% of the global sales of chemical products being directly or indirectly linked with chlorine.\n",
      "Besides its importance for the economy, chlorine has for many years been the subject of controversial debates because of adverse environmental and health imp\n"
     ]
    }
   ],
   "source": [
    "f = open(all_contents, 'r')\n",
    "context = f.read()\n",
    "print(context[1:500])"
   ]
  },
  {
   "cell_type": "markdown",
   "metadata": {},
   "source": [
    "### DONE Preparation"
   ]
  },
  {
   "cell_type": "markdown",
   "metadata": {},
   "source": [
    "# Task No.1 Let's clean the data from reading"
   ]
  },
  {
   "cell_type": "markdown",
   "metadata": {},
   "source": [
    "### First, delete all Non-English charecter"
   ]
  },
  {
   "cell_type": "code",
   "execution_count": 70,
   "metadata": {},
   "outputs": [
    {
     "name": "stdout",
     "output_type": "stream",
     "text": [
      "Strategies on the future of the chlorine industry   C  Hendriks and D  Papameletiou   Issue    Production and use of chlorine are of key importance for the chemical industry  with a large number of chlorinated compounds on the market  and nearly     of the global sales of chemical products being directly or indirectly linked with chlorine  Besides its importance for the economy  chlorine has for many years been the subject of controversial debates because of adverse environmental and health imp\n"
     ]
    }
   ],
   "source": [
    "import re\n",
    "context_no_non_eng = re.sub(\"[^A-Za-z]\", \" \", context)\n",
    "print(context_no_non_eng[1:500])"
   ]
  },
  {
   "cell_type": "markdown",
   "metadata": {},
   "source": [
    "### Secound, Covert too many whitespce into one"
   ]
  },
  {
   "cell_type": "code",
   "execution_count": 71,
   "metadata": {},
   "outputs": [
    {
     "name": "stdout",
     "output_type": "stream",
     "text": [
      "Strategies on the future of the chlorine industry C Hendriks and D Papameletiou Issue Production and use of chlorine are of key importance for the chemical industry with a large number of chlorinated compounds on the market and nearly of the global sales of chemical products being directly or indirectly linked with chlorine Besides its importance for the economy chlorine has for many years been the subject of controversial debates because of adverse environmental and health impacts of many chlo\n"
     ]
    }
   ],
   "source": [
    "context_nonEng_single_spcace = re.sub('\\s+', ' ', context_no_non_eng)\n",
    "print(context_nonEng_single_spcace[1:500])"
   ]
  },
  {
   "cell_type": "markdown",
   "metadata": {},
   "source": [
    "### Lastly, Cast every letter to lowercase"
   ]
  },
  {
   "cell_type": "code",
   "execution_count": 72,
   "metadata": {},
   "outputs": [
    {
     "name": "stdout",
     "output_type": "stream",
     "text": [
      "strategies on the future of the chlorine industry c hendriks and d papameletiou issue production and use of chlorine are of key importance for the chemical industry with a large number of chlorinated compounds on the market and nearly of the global sales of chemical products being directly or indirectly linked with chlorine besides its importance for the economy chlorine has for many years been the subject of controversial debates because of adverse environmental and health impacts of many chlo\n"
     ]
    }
   ],
   "source": [
    "clean_context = context_nonEng_single_spcace.lower()\n",
    "print(clean_context[1:500])"
   ]
  },
  {
   "cell_type": "markdown",
   "metadata": {},
   "source": [
    "### Done 1st task"
   ]
  },
  {
   "cell_type": "markdown",
   "metadata": {},
   "source": [
    "# Task No.2 Create the table of term and freq as the page #22"
   ]
  },
  {
   "cell_type": "code",
   "execution_count": 73,
   "metadata": {},
   "outputs": [
    {
     "data": {
      "text/html": [
       "<div>\n",
       "<style scoped>\n",
       "    .dataframe tbody tr th:only-of-type {\n",
       "        vertical-align: middle;\n",
       "    }\n",
       "\n",
       "    .dataframe tbody tr th {\n",
       "        vertical-align: top;\n",
       "    }\n",
       "\n",
       "    .dataframe thead th {\n",
       "        text-align: right;\n",
       "    }\n",
       "</style>\n",
       "<table border=\"1\" class=\"dataframe\">\n",
       "  <thead>\n",
       "    <tr style=\"text-align: right;\">\n",
       "      <th></th>\n",
       "      <th>word</th>\n",
       "      <th>frequency</th>\n",
       "      <th>P(w)</th>\n",
       "      <th>rank</th>\n",
       "    </tr>\n",
       "  </thead>\n",
       "  <tbody>\n",
       "    <tr>\n",
       "      <th>0</th>\n",
       "      <td>defeat</td>\n",
       "      <td>12</td>\n",
       "      <td>0.000006</td>\n",
       "      <td>2</td>\n",
       "    </tr>\n",
       "    <tr>\n",
       "      <th>1</th>\n",
       "      <td>decet</td>\n",
       "      <td>0</td>\n",
       "      <td>0.000000</td>\n",
       "      <td>5</td>\n",
       "    </tr>\n",
       "    <tr>\n",
       "      <th>2</th>\n",
       "      <td>defect</td>\n",
       "      <td>198</td>\n",
       "      <td>0.000094</td>\n",
       "      <td>1</td>\n",
       "    </tr>\n",
       "    <tr>\n",
       "      <th>3</th>\n",
       "      <td>deft</td>\n",
       "      <td>0</td>\n",
       "      <td>0.000000</td>\n",
       "      <td>5</td>\n",
       "    </tr>\n",
       "    <tr>\n",
       "      <th>4</th>\n",
       "      <td>defer</td>\n",
       "      <td>11</td>\n",
       "      <td>0.000005</td>\n",
       "      <td>3</td>\n",
       "    </tr>\n",
       "    <tr>\n",
       "      <th>5</th>\n",
       "      <td>Deeft</td>\n",
       "      <td>0</td>\n",
       "      <td>0.000000</td>\n",
       "      <td>5</td>\n",
       "    </tr>\n",
       "  </tbody>\n",
       "</table>\n",
       "</div>"
      ],
      "text/plain": [
       "     word  frequency      P(w)  rank\n",
       "0  defeat         12  0.000006     2\n",
       "1   decet          0  0.000000     5\n",
       "2  defect        198  0.000094     1\n",
       "3    deft          0  0.000000     5\n",
       "4   defer         11  0.000005     3\n",
       "5   Deeft          0  0.000000     5"
      ]
     },
     "execution_count": 73,
     "metadata": {},
     "output_type": "execute_result"
    }
   ],
   "source": [
    "IULA = pd.DataFrame(\n",
    "    [\n",
    "        ['defeat', clean_context.count('defeat')],\n",
    "        ['decet', clean_context.count('decet')],\n",
    "        ['defect', clean_context.count('defect')],\n",
    "        ['deft', clean_context.count('deft')],\n",
    "        ['defer', clean_context.count('defer')],\n",
    "        ['Deeft', clean_context.count('Deeft')]\n",
    "    ],\n",
    "    columns=['word', 'frequency']\n",
    ")\n",
    "IULA_pop = 2.1e6\n",
    "IULA['P(w)'] = IULA['frequency']/IULA_pop\n",
    "IULA['rank'] = IULA['frequency'].rank(ascending=False).astype(int)\n",
    "\n",
    "IULA"
   ]
  },
  {
   "cell_type": "markdown",
   "metadata": {},
   "source": [
    "For my practicing and the example on hand on, it is **differnt**."
   ]
  },
  {
   "cell_type": "markdown",
   "metadata": {},
   "source": [
    "From my hypotheses, refer from the $ P(w) = \\frac{C(w)}{T} $\n",
    "\n",
    "In my frequency $ (C(w)) $ is **not the same** as the previous. I guess because I do on the real data but in the slide should make it simple."
   ]
  },
  {
   "cell_type": "markdown",
   "metadata": {},
   "source": [
    "## Let do 10^9P(x|w)P(w) by using Norvig's prob"
   ]
  },
  {
   "cell_type": "markdown",
   "metadata": {},
   "source": [
    "### Prepare norvig's prob"
   ]
  },
  {
   "cell_type": "code",
   "execution_count": 74,
   "metadata": {},
   "outputs": [
    {
     "data": {
      "text/html": [
       "<div>\n",
       "<style scoped>\n",
       "    .dataframe tbody tr th:only-of-type {\n",
       "        vertical-align: middle;\n",
       "    }\n",
       "\n",
       "    .dataframe tbody tr th {\n",
       "        vertical-align: top;\n",
       "    }\n",
       "\n",
       "    .dataframe thead th {\n",
       "        text-align: right;\n",
       "    }\n",
       "</style>\n",
       "<table border=\"1\" class=\"dataframe\">\n",
       "  <thead>\n",
       "    <tr style=\"text-align: right;\">\n",
       "      <th></th>\n",
       "      <th>edit</th>\n",
       "    </tr>\n",
       "    <tr>\n",
       "      <th>term</th>\n",
       "      <th></th>\n",
       "    </tr>\n",
       "  </thead>\n",
       "  <tbody>\n",
       "    <tr>\n",
       "      <th>e|i</th>\n",
       "      <td>917</td>\n",
       "    </tr>\n",
       "    <tr>\n",
       "      <th>a|e</th>\n",
       "      <td>856</td>\n",
       "    </tr>\n",
       "    <tr>\n",
       "      <th>i|e</th>\n",
       "      <td>771</td>\n",
       "    </tr>\n",
       "    <tr>\n",
       "      <th>e|a</th>\n",
       "      <td>749</td>\n",
       "    </tr>\n",
       "    <tr>\n",
       "      <th>a|i</th>\n",
       "      <td>559</td>\n",
       "    </tr>\n",
       "  </tbody>\n",
       "</table>\n",
       "</div>"
      ],
      "text/plain": [
       "      edit\n",
       "term      \n",
       "e|i    917\n",
       "a|e    856\n",
       "i|e    771\n",
       "e|a    749\n",
       "a|i    559"
      ]
     },
     "execution_count": 74,
     "metadata": {},
     "output_type": "execute_result"
    }
   ],
   "source": [
    "norvig = pd.read_csv('http://norvig.com/ngrams/count_1edit.txt',\n",
    "                     sep='\\t', encoding=\"ISO-8859-1\", header=None)\n",
    "norvig.columns = ['term', 'edit']\n",
    "norvig = norvig.set_index('term')\n",
    "norvig.head()"
   ]
  },
  {
   "cell_type": "code",
   "execution_count": 75,
   "metadata": {},
   "outputs": [
    {
     "data": {
      "text/html": [
       "<div>\n",
       "<style scoped>\n",
       "    .dataframe tbody tr th:only-of-type {\n",
       "        vertical-align: middle;\n",
       "    }\n",
       "\n",
       "    .dataframe tbody tr th {\n",
       "        vertical-align: top;\n",
       "    }\n",
       "\n",
       "    .dataframe thead th {\n",
       "        text-align: right;\n",
       "    }\n",
       "</style>\n",
       "<table border=\"1\" class=\"dataframe\">\n",
       "  <thead>\n",
       "    <tr style=\"text-align: right;\">\n",
       "      <th></th>\n",
       "      <th>term</th>\n",
       "      <th>freq</th>\n",
       "    </tr>\n",
       "  </thead>\n",
       "  <tbody>\n",
       "    <tr>\n",
       "      <th>0</th>\n",
       "      <td>a</td>\n",
       "      <td>21160</td>\n",
       "    </tr>\n",
       "    <tr>\n",
       "      <th>1</th>\n",
       "      <td>aah</td>\n",
       "      <td>1</td>\n",
       "    </tr>\n",
       "    <tr>\n",
       "      <th>2</th>\n",
       "      <td>aaron</td>\n",
       "      <td>5</td>\n",
       "    </tr>\n",
       "    <tr>\n",
       "      <th>3</th>\n",
       "      <td>ab</td>\n",
       "      <td>2</td>\n",
       "    </tr>\n",
       "    <tr>\n",
       "      <th>4</th>\n",
       "      <td>aback</td>\n",
       "      <td>3</td>\n",
       "    </tr>\n",
       "  </tbody>\n",
       "</table>\n",
       "</div>"
      ],
      "text/plain": [
       "    term   freq\n",
       "0      a  21160\n",
       "1    aah      1\n",
       "2  aaron      5\n",
       "3     ab      2\n",
       "4  aback      3"
      ]
     },
     "execution_count": 75,
     "metadata": {},
     "output_type": "execute_result"
    }
   ],
   "source": [
    "norvig_orig = pd.read_csv('http://norvig.com/ngrams/count_big.txt',\n",
    "                          sep='\\t', encoding=\"ISO-8859-1\", header=None)\n",
    "norvig_orig = norvig_orig.dropna()\n",
    "norvig_orig.columns = ['term', 'freq']\n",
    "norvig_orig.head()\n"
   ]
  },
  {
   "cell_type": "code",
   "execution_count": 76,
   "metadata": {},
   "outputs": [],
   "source": [
    "def get_count(c, norvig_orig):\n",
    "    return norvig_orig.apply(lambda x: x.term.count(c) * x.freq, axis=1).sum()"
   ]
  },
  {
   "cell_type": "code",
   "execution_count": 77,
   "metadata": {},
   "outputs": [],
   "source": [
    "character_set = list(map(''.join, itertools.product(ascii_lowercase, repeat=1))) + \\\n",
    "    list(map(''.join, itertools.product(ascii_lowercase, repeat=2)))"
   ]
  },
  {
   "cell_type": "code",
   "execution_count": 78,
   "metadata": {},
   "outputs": [],
   "source": [
    "with mp.Pool(processes=8) as pool:\n",
    "    freq_list = pool.map(functools.partial(\n",
    "        get_count, norvig_orig=norvig_orig), character_set)\n",
    "\n",
    "freq_df = pd.DataFrame([character_set, freq_list], index=['char', 'freq']).T\n",
    "freq_df = freq_df.set_index('char')"
   ]
  },
  {
   "cell_type": "markdown",
   "metadata": {},
   "source": [
    "### Done of set up\n",
    "* freq_df as frequency per character"
   ]
  },
  {
   "cell_type": "markdown",
   "metadata": {},
   "source": [
    "### Set the new coulumn as $ P(x|w) $"
   ]
  },
  {
   "cell_type": "code",
   "execution_count": 79,
   "metadata": {},
   "outputs": [
    {
     "data": {
      "text/html": [
       "<div>\n",
       "<style scoped>\n",
       "    .dataframe tbody tr th:only-of-type {\n",
       "        vertical-align: middle;\n",
       "    }\n",
       "\n",
       "    .dataframe tbody tr th {\n",
       "        vertical-align: top;\n",
       "    }\n",
       "\n",
       "    .dataframe thead th {\n",
       "        text-align: right;\n",
       "    }\n",
       "</style>\n",
       "<table border=\"1\" class=\"dataframe\">\n",
       "  <thead>\n",
       "    <tr style=\"text-align: right;\">\n",
       "      <th></th>\n",
       "      <th>word</th>\n",
       "      <th>frequency</th>\n",
       "      <th>P(w)</th>\n",
       "      <th>rank</th>\n",
       "      <th>P(x|w)</th>\n",
       "    </tr>\n",
       "  </thead>\n",
       "  <tbody>\n",
       "    <tr>\n",
       "      <th>0</th>\n",
       "      <td>defeat</td>\n",
       "      <td>12</td>\n",
       "      <td>0.000006</td>\n",
       "      <td>2</td>\n",
       "      <td>0.012834</td>\n",
       "    </tr>\n",
       "    <tr>\n",
       "      <th>1</th>\n",
       "      <td>decet</td>\n",
       "      <td>0</td>\n",
       "      <td>0.000000</td>\n",
       "      <td>5</td>\n",
       "      <td>0.000028</td>\n",
       "    </tr>\n",
       "    <tr>\n",
       "      <th>2</th>\n",
       "      <td>defect</td>\n",
       "      <td>198</td>\n",
       "      <td>0.000094</td>\n",
       "      <td>1</td>\n",
       "      <td>0.003167</td>\n",
       "    </tr>\n",
       "    <tr>\n",
       "      <th>3</th>\n",
       "      <td>deft</td>\n",
       "      <td>0</td>\n",
       "      <td>0.000000</td>\n",
       "      <td>5</td>\n",
       "      <td>0.000003</td>\n",
       "    </tr>\n",
       "    <tr>\n",
       "      <th>4</th>\n",
       "      <td>defer</td>\n",
       "      <td>11</td>\n",
       "      <td>0.000005</td>\n",
       "      <td>3</td>\n",
       "      <td>0.000036</td>\n",
       "    </tr>\n",
       "    <tr>\n",
       "      <th>5</th>\n",
       "      <td>Deeft</td>\n",
       "      <td>0</td>\n",
       "      <td>0.000000</td>\n",
       "      <td>5</td>\n",
       "      <td>0.003311</td>\n",
       "    </tr>\n",
       "  </tbody>\n",
       "</table>\n",
       "</div>"
      ],
      "text/plain": [
       "     word  frequency      P(w)  rank    P(x|w)\n",
       "0  defeat         12  0.000006     2  0.012834\n",
       "1   decet          0  0.000000     5  0.000028\n",
       "2  defect        198  0.000094     1  0.003167\n",
       "3    deft          0  0.000000     5  0.000003\n",
       "4   defer         11  0.000005     3  0.000036\n",
       "5   Deeft          0  0.000000     5  0.003311"
      ]
     },
     "execution_count": 79,
     "metadata": {},
     "output_type": "execute_result"
    }
   ],
   "source": [
    "IULA['P(x|w)'] = [\n",
    "    (norvig.loc['e|ea'].values / freq_df.loc['ea'].values)[0],\n",
    "    (norvig.loc['f|c'].values / freq_df.loc['c'].values)[0],\n",
    "    (norvig.loc['e|ec'].values / freq_df.loc['ec'].values)[0],\n",
    "    (norvig.loc['e| '].values / freq_df.loc['e'].values)[0],\n",
    "    (norvig.loc['t|r'].values / freq_df.loc['r'].values)[0],\n",
    "    (norvig.loc['fe|ef'].values / freq_df.loc['ef'].values)[0]\n",
    "]\n",
    "IULA"
   ]
  },
  {
   "cell_type": "markdown",
   "metadata": {},
   "source": [
    "### Add the new column as $ 10^9 P(x|w)P(w) $"
   ]
  },
  {
   "cell_type": "code",
   "execution_count": 80,
   "metadata": {},
   "outputs": [
    {
     "data": {
      "text/html": [
       "<div>\n",
       "<style scoped>\n",
       "    .dataframe tbody tr th:only-of-type {\n",
       "        vertical-align: middle;\n",
       "    }\n",
       "\n",
       "    .dataframe tbody tr th {\n",
       "        vertical-align: top;\n",
       "    }\n",
       "\n",
       "    .dataframe thead th {\n",
       "        text-align: right;\n",
       "    }\n",
       "</style>\n",
       "<table border=\"1\" class=\"dataframe\">\n",
       "  <thead>\n",
       "    <tr style=\"text-align: right;\">\n",
       "      <th></th>\n",
       "      <th>word</th>\n",
       "      <th>frequency</th>\n",
       "      <th>P(w)</th>\n",
       "      <th>rank</th>\n",
       "      <th>P(x|w)</th>\n",
       "      <th>10e9 P(x|w)P(w)</th>\n",
       "    </tr>\n",
       "  </thead>\n",
       "  <tbody>\n",
       "    <tr>\n",
       "      <th>0</th>\n",
       "      <td>defeat</td>\n",
       "      <td>12</td>\n",
       "      <td>0.000006</td>\n",
       "      <td>2</td>\n",
       "      <td>0.012834</td>\n",
       "      <td>73.337097</td>\n",
       "    </tr>\n",
       "    <tr>\n",
       "      <th>1</th>\n",
       "      <td>decet</td>\n",
       "      <td>0</td>\n",
       "      <td>0.000000</td>\n",
       "      <td>5</td>\n",
       "      <td>0.000028</td>\n",
       "      <td>0.000000</td>\n",
       "    </tr>\n",
       "    <tr>\n",
       "      <th>2</th>\n",
       "      <td>defect</td>\n",
       "      <td>198</td>\n",
       "      <td>0.000094</td>\n",
       "      <td>1</td>\n",
       "      <td>0.003167</td>\n",
       "      <td>298.593664</td>\n",
       "    </tr>\n",
       "    <tr>\n",
       "      <th>3</th>\n",
       "      <td>deft</td>\n",
       "      <td>0</td>\n",
       "      <td>0.000000</td>\n",
       "      <td>5</td>\n",
       "      <td>0.000003</td>\n",
       "      <td>0.000000</td>\n",
       "    </tr>\n",
       "    <tr>\n",
       "      <th>4</th>\n",
       "      <td>defer</td>\n",
       "      <td>11</td>\n",
       "      <td>0.000005</td>\n",
       "      <td>3</td>\n",
       "      <td>0.000036</td>\n",
       "      <td>0.186141</td>\n",
       "    </tr>\n",
       "    <tr>\n",
       "      <th>5</th>\n",
       "      <td>Deeft</td>\n",
       "      <td>0</td>\n",
       "      <td>0.000000</td>\n",
       "      <td>5</td>\n",
       "      <td>0.003311</td>\n",
       "      <td>0.000000</td>\n",
       "    </tr>\n",
       "  </tbody>\n",
       "</table>\n",
       "</div>"
      ],
      "text/plain": [
       "     word  frequency      P(w)  rank    P(x|w)  10e9 P(x|w)P(w)\n",
       "0  defeat         12  0.000006     2  0.012834        73.337097\n",
       "1   decet          0  0.000000     5  0.000028         0.000000\n",
       "2  defect        198  0.000094     1  0.003167       298.593664\n",
       "3    deft          0  0.000000     5  0.000003         0.000000\n",
       "4   defer         11  0.000005     3  0.000036         0.186141\n",
       "5   Deeft          0  0.000000     5  0.003311         0.000000"
      ]
     },
     "execution_count": 80,
     "metadata": {},
     "output_type": "execute_result"
    }
   ],
   "source": [
    "IULA['10e9 P(x|w)P(w)'] = 1e9 * IULA['P(w)'] * IULA['P(x|w)']\n",
    "IULA"
   ]
  },
  {
   "cell_type": "markdown",
   "metadata": {},
   "source": [
    "### Done Task No.2"
   ]
  },
  {
   "cell_type": "markdown",
   "metadata": {},
   "source": [
    "# Task No.3 Calculate the Incorporating context"
   ]
  },
  {
   "cell_type": "markdown",
   "metadata": {},
   "source": [
    "### In the sentense “It is difficult to make **a defet-free** software product\"\n",
    "\n",
    "### To predict that incorrect group of word, which one is should be more candidate between **a defeat free** or **a defect free** \n",
    "\n",
    "### So we need group **words** as the slide in page37"
   ]
  },
  {
   "cell_type": "markdown",
   "metadata": {},
   "source": [
    "* a defeat\n",
    "* a defect\n",
    "* defeat free\n",
    "* defect free\n",
    "\n",
    "### Let's start on create the table"
   ]
  },
  {
   "cell_type": "code",
   "execution_count": 81,
   "metadata": {},
   "outputs": [
    {
     "data": {
      "text/html": [
       "<div>\n",
       "<style scoped>\n",
       "    .dataframe tbody tr th:only-of-type {\n",
       "        vertical-align: middle;\n",
       "    }\n",
       "\n",
       "    .dataframe tbody tr th {\n",
       "        vertical-align: top;\n",
       "    }\n",
       "\n",
       "    .dataframe thead th {\n",
       "        text-align: right;\n",
       "    }\n",
       "</style>\n",
       "<table border=\"1\" class=\"dataframe\">\n",
       "  <thead>\n",
       "    <tr style=\"text-align: right;\">\n",
       "      <th></th>\n",
       "      <th>group of word</th>\n",
       "      <th>P(Wk|Wk-1)</th>\n",
       "      <th>C(Wk-1|Wk)/C(Wk-1)</th>\n",
       "      <th>Evaluate</th>\n",
       "    </tr>\n",
       "  </thead>\n",
       "  <tbody>\n",
       "    <tr>\n",
       "      <th>0</th>\n",
       "      <td>a defeat</td>\n",
       "      <td>P(defeat|a)</td>\n",
       "      <td>C(a defeat)/C(defeat)</td>\n",
       "      <td>0.000000</td>\n",
       "    </tr>\n",
       "    <tr>\n",
       "      <th>1</th>\n",
       "      <td>a defect</td>\n",
       "      <td>P(defect|a)</td>\n",
       "      <td>C(a defeat)/C(defeat)</td>\n",
       "      <td>0.106061</td>\n",
       "    </tr>\n",
       "    <tr>\n",
       "      <th>2</th>\n",
       "      <td>defeat free</td>\n",
       "      <td>P(free|defeat)</td>\n",
       "      <td>C(defeat free)/C(free)</td>\n",
       "      <td>0.000000</td>\n",
       "    </tr>\n",
       "    <tr>\n",
       "      <th>3</th>\n",
       "      <td>defect free</td>\n",
       "      <td>P(free|defect)</td>\n",
       "      <td>C(defect free)/C(free)</td>\n",
       "      <td>0.000000</td>\n",
       "    </tr>\n",
       "  </tbody>\n",
       "</table>\n",
       "</div>"
      ],
      "text/plain": [
       "  group of word      P(Wk|Wk-1)      C(Wk-1|Wk)/C(Wk-1)  Evaluate\n",
       "0      a defeat     P(defeat|a)   C(a defeat)/C(defeat)  0.000000\n",
       "1      a defect     P(defect|a)   C(a defeat)/C(defeat)  0.106061\n",
       "2   defeat free  P(free|defeat)  C(defeat free)/C(free)  0.000000\n",
       "3   defect free  P(free|defect)  C(defect free)/C(free)  0.000000"
      ]
     },
     "execution_count": 81,
     "metadata": {},
     "output_type": "execute_result"
    }
   ],
   "source": [
    "IULA_calcu = pd.DataFrame(\n",
    "    [['a defeat', 'P(defeat|a)','C(a defeat)/C(defeat)',clean_context.count('a defeat')/clean_context.count('defeat')],\n",
    "     ['a defect', 'P(defect|a)','C(a defeat)/C(defeat)',clean_context.count('a defect')/clean_context.count('defect')],\n",
    "     ['defeat free','P(free|defeat)','C(defeat free)/C(free)',clean_context.count('defeat free')/clean_context.count('free')],\n",
    "     ['defect free','P(free|defect)','C(defect free)/C(free)',clean_context.count('defect free')/clean_context.count('defect')]\n",
    "     ],\n",
    "    columns=['group of word', 'P(Wk|Wk-1)', 'C(Wk-1|Wk)/C(Wk-1)', 'Evaluate']\n",
    ")\n",
    "IULA_calcu\n"
   ]
  },
  {
   "cell_type": "markdown",
   "metadata": {},
   "source": [
    "### In the **group of word** the **first word** refer as $ W _{k-1} $ and the **second** as $ W _k $\n",
    "### Refer to the first row, we have group of word as **a defeat** by $ W _k $ = **a** and $ W _{k-1} $ = **defeat**\n",
    "### but in the thrid row, we have group of word as **defeat free** so the **defeat** is $ W _{k-1} $ and the **free** is $ W _k $"
   ]
  },
  {
   "cell_type": "code",
   "execution_count": 82,
   "metadata": {},
   "outputs": [
    {
     "name": "stdout",
     "output_type": "stream",
     "text": [
      "P(“a defeat free”) = 0.0\n"
     ]
    }
   ],
   "source": [
    "P_1 = IULA_calcu['Evaluate'][0]*IULA_calcu['Evaluate'][2]\n",
    "print(\"P(“a defeat free”) = \" + str(P_1))"
   ]
  },
  {
   "cell_type": "code",
   "execution_count": 83,
   "metadata": {},
   "outputs": [
    {
     "name": "stdout",
     "output_type": "stream",
     "text": [
      "P(“a defect free”) = 0.0\n"
     ]
    },
    {
     "data": {
      "text/plain": [
       "0.10606060606060606"
      ]
     },
     "execution_count": 83,
     "metadata": {},
     "output_type": "execute_result"
    }
   ],
   "source": [
    "P_2 = IULA_calcu['Evaluate'][1]*IULA_calcu['Evaluate'][3]\n",
    "print(\"P(“a defect free”) = \" + str(P_2))\n",
    "IULA_calcu['Evaluate'][1]"
   ]
  },
  {
   "cell_type": "markdown",
   "metadata": {},
   "source": [
    "## Conclusion, with IULA data we cannot found the which is the candidate of correct word. Because of the score of **P(“a defeat free”)** and **\"P(“a defect free”)** is 0. But in the class we can say the \"P(“a defeat free”) is the most candidate because it has Candidate value more that another."
   ]
  },
  {
   "cell_type": "markdown",
   "metadata": {},
   "source": [
    "## Done the last part"
   ]
  }
 ],
 "metadata": {
  "interpreter": {
   "hash": "7b4b4feff2f24a0f0a34464dbe537a36fda679851528fb8735cb41fa49dffb2d"
  },
  "kernelspec": {
   "display_name": "Python 3.8.8 64-bit ('base': conda)",
   "language": "python",
   "name": "python3"
  },
  "language_info": {
   "codemirror_mode": {
    "name": "ipython",
    "version": 3
   },
   "file_extension": ".py",
   "mimetype": "text/x-python",
   "name": "python",
   "nbconvert_exporter": "python",
   "pygments_lexer": "ipython3",
   "version": "3.9.9"
  },
  "orig_nbformat": 4
 },
 "nbformat": 4,
 "nbformat_minor": 2
}
