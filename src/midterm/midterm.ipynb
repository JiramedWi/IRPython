{
 "cells": [
  {
   "cell_type": "code",
   "execution_count": 64,
   "metadata": {},
   "outputs": [],
   "source": [
    "import pandas as pd\n",
    "\n",
    "import numpy as np\n",
    "import multiprocessing as mp\n",
    "import functools\n",
    "from string import ascii_lowercase\n",
    "import timeit\n",
    "import itertools\n",
    "import cProfile\n",
    "\n",
    "from sklearn.feature_extraction.text import CountVectorizer\n",
    "from sklearn.feature_extraction.text import TfidfVectorizer\n",
    "from scipy import sparse\n",
    "\n",
    "import nltk\n",
    "from nltk.tokenize import word_tokenize\n",
    "from nltk.corpus import stopwords\n",
    "from nltk.stem import PorterStemmer\n",
    "import itertools\n",
    "\n",
    "import os\n",
    "import sys\n"
   ]
  },
  {
   "cell_type": "code",
   "execution_count": 65,
   "metadata": {},
   "outputs": [
    {
     "data": {
      "text/plain": [
       "'“ces, the world’s largest technology show, appears to be in jeopardy due to rising covid-19 \\ncases in the united states. on wednesday evening, exhibitor lenovo announced that it would \\n“suspend all on-site activity in las vegas,” following announcements from t-mobile, amazon, \\nmeta, and others that they’d be ditching as well and despite ces organizers’ statements today \\nthat the show would go on.”'"
      ]
     },
     "execution_count": 65,
     "metadata": {},
     "output_type": "execute_result"
    }
   ],
   "source": [
    "text_path = \"/mnt/d/Git/Repositories/IRPython/src/midterm/text.txt\"\n",
    "text_read = open(text_path, 'r')\n",
    "text = text_read.read()\n",
    "\n",
    "text_low = text.lower()\n",
    "text_low\n"
   ]
  },
  {
   "cell_type": "code",
   "execution_count": 66,
   "metadata": {},
   "outputs": [
    {
     "data": {
      "text/plain": [
       "' ces  the world s largest technology show  appears to be in jeopardy due to rising covid     cases in the united states  on wednesday evening  exhibitor lenovo announced that it would   suspend all on site activity in las vegas   following announcements from t mobile  amazon   meta  and others that they d be ditching as well and despite ces organizers  statements today  that the show would go on  '"
      ]
     },
     "execution_count": 66,
     "metadata": {},
     "output_type": "execute_result"
    }
   ],
   "source": [
    "import re\n",
    "text_low_extract = re.sub(\"[^A-Za-z]\", \" \", text_low)\n",
    "# text_low_extract = text_low.split()\n",
    "text_low_extract"
   ]
  },
  {
   "cell_type": "code",
   "execution_count": 67,
   "metadata": {},
   "outputs": [
    {
     "data": {
      "text/plain": [
       "' ces the world s largest technology show appears to be in jeopardy due to rising covid cases in the united states on wednesday evening exhibitor lenovo announced that it would suspend all on site activity in las vegas following announcements from t mobile amazon meta and others that they d be ditching as well and despite ces organizers statements today that the show would go on '"
      ]
     },
     "execution_count": 67,
     "metadata": {},
     "output_type": "execute_result"
    }
   ],
   "source": [
    "import string\n",
    "text_remove_stop_word = text_low_extract.translate(\n",
    "    str.maketrans('', '', string.punctuation))\n",
    "text_remove_stop_word = re.sub('\\s+', ' ', text_remove_stop_word)\n",
    "text_remove_stop_word\n"
   ]
  },
  {
   "cell_type": "code",
   "execution_count": 68,
   "metadata": {},
   "outputs": [
    {
     "name": "stdout",
     "output_type": "stream",
     "text": [
      "ce\n",
      "the\n",
      "world\n",
      "s\n",
      "largest\n",
      "technolog\n",
      "show\n",
      "appear\n",
      "to\n",
      "be\n",
      "in\n",
      "jeopardi\n",
      "due\n",
      "to\n",
      "rise\n",
      "covid\n",
      "case\n",
      "in\n",
      "the\n",
      "unit\n",
      "state\n",
      "on\n",
      "wednesday\n",
      "even\n",
      "exhibitor\n",
      "lenovo\n",
      "announc\n",
      "that\n",
      "it\n",
      "would\n",
      "suspend\n",
      "all\n",
      "on\n",
      "site\n",
      "activ\n",
      "in\n",
      "la\n",
      "vega\n",
      "follow\n",
      "announc\n",
      "from\n",
      "t\n",
      "mobil\n",
      "amazon\n",
      "meta\n",
      "and\n",
      "other\n",
      "that\n",
      "they\n",
      "d\n",
      "be\n",
      "ditch\n",
      "as\n",
      "well\n",
      "and\n",
      "despit\n",
      "ce\n",
      "organ\n",
      "statement\n",
      "today\n",
      "that\n",
      "the\n",
      "show\n",
      "would\n",
      "go\n",
      "on\n"
     ]
    }
   ],
   "source": [
    "ps = PorterStemmer()\n",
    "words = word_tokenize(text_remove_stop_word)\n",
    "for w in words:\n",
    "    print(ps.stem(w))\n"
   ]
  }
 ],
 "metadata": {
  "interpreter": {
   "hash": "f9f85f796d01129d0dd105a088854619f454435301f6ffec2fea96ecbd9be4ac"
  },
  "kernelspec": {
   "display_name": "Python 3.9.9 64-bit",
   "language": "python",
   "name": "python3"
  },
  "language_info": {
   "codemirror_mode": {
    "name": "ipython",
    "version": 3
   },
   "file_extension": ".py",
   "mimetype": "text/x-python",
   "name": "python",
   "nbconvert_exporter": "python",
   "pygments_lexer": "ipython3",
   "version": "3.9.9"
  },
  "orig_nbformat": 4
 },
 "nbformat": 4,
 "nbformat_minor": 2
}
